{
  "nbformat": 4,
  "nbformat_minor": 0,
  "metadata": {
    "colab": {
      "provenance": []
    },
    "kernelspec": {
      "name": "python3",
      "display_name": "Python 3"
    },
    "language_info": {
      "name": "python"
    }
  },
  "cells": [
    {
      "cell_type": "markdown",
      "source": [
        "#FUNCTION ASSIGNMENT"
      ],
      "metadata": {
        "id": "InU9Qph4sFOw"
      }
    },
    {
      "cell_type": "markdown",
      "source": [
        "#Theoritical Questions"
      ],
      "metadata": {
        "id": "v4yMMbKEsOdb"
      }
    },
    {
      "cell_type": "markdown",
      "source": [
        "1. What is the difference between a function and a method in Python ?\n",
        "\n",
        "-->>In Python, the fundamental difference between a function and a method lies in their association with classes and objects:\n",
        "\n",
        "Function: A function is a standalone block of reusable code that performs a specific task. It is defined independently and can be called by its name without requiring an object or class instance. Functions typically operate on data passed to them as arguments and may return a result.\n",
        "\n",
        "Method: A method is a function that is defined within a class. It is associated with objects (instances) of that class and operates on the data (attributes) of those objects. Methods are called using the dot notation on an object instance. The first parameter of a method is conventionally named self, which refers to the instance of the class on which the method is called.\n",
        "\n",
        "\n",
        "\n",
        " 2. Explain the concept of function arguments and parameters in Python.\n",
        "\n",
        " ->>In Python, the terms \"argument\" and \"parameter\" are distinct concepts related to functions:\n",
        "\n",
        "Parameter: A parameter is a variable defined in the function's signature (its def statement). It acts as a placeholder for a value that will be provided when the function is called. Parameters specify the types of input a function expects.\n",
        "\n",
        "Argument: An argument is the actual value passed to a function when it is called. These values are assigned to the corresponding parameters within the function's scope.\n",
        "\n",
        "\n",
        "\n",
        " 3. What are the different ways to define and call a function in Python?\n",
        "\n",
        " ->>In Python, defining and calling functions are fundamental concepts for organizing and reusing code.\n",
        "Defining a Function:\n",
        "A function in Python is defined using the def keyword.\n",
        "\n",
        "def keyword: Initiates the function definition.\n",
        "function_name: A descriptive name for the function, following Python's naming conventions.\n",
        "() parentheses: Enclose any parameters the function accepts. Parameters are placeholders for values that will be passed into the function when it's called.\n",
        ": colon: Marks the end of the function header.\n",
        "Indented block: The code within the function must be indented to indicate it belongs to that function.\n",
        "return statement (optional): Used to send a value back to the caller of the function. If omitted, the function implicitly returns None.\n",
        "Calling a Function:\n",
        "To execute the code within a defined function, you \"call\" it.\n",
        "\n",
        "function_name: The name of the function you want to call.\n",
        "() parentheses: Used to invoke the function.\n",
        "arguments (optional): The actual values passed to the function, corresponding to the parameters defined in the function header.\n",
        "\n",
        "\n",
        " 4. What is the purpose of the return statement in a Python function?\n",
        "\n",
        " -->>The return statement in a Python function serves two primary purposes:\n",
        "Exiting the Function:\n",
        "When a return statement is encountered during the execution of a function, it immediately terminates the function's execution. Any code following the return statement within that function will not be executed. Control is then transferred back to the point in the program where the function was called.\n",
        "Returning a Value:\n",
        "The return statement can optionally be followed by an expression or a value. This value is then \"returned\" to the caller of the function. The caller can capture this returned value and use it for further processing, assign it to a variable, or pass it as an argument to another function. If a return statement is used without specifying a value, or if no return statement is present in a function, the function implicitly returns None.\n",
        "\n",
        "\n",
        "\n",
        " 5. What are iterators in Python and how do they differ from iterables?\n",
        "\n",
        " -->>Here is a list of the differences between Iterable and Iterator in Python. An Iterable is basically an object that any user can iterate over. An Iterator is also an object that helps a user in iterating over another object (that is iterable). We can generate an iterator when we pass the object to the iter() method.\n",
        "\n",
        "\n",
        "\n",
        " 6. Explain the concept of generators in Python and how they are defined.\n",
        "\n",
        "-->>In Python, a generator is a function that produces a sequence of values, one at a time, using the yield keyword instead of return. This allows for efficient memory usage, especially when dealing with large datasets or potentially infinite sequences, as the values are generated on-demand rather than stored in memory all at once.\n",
        "Here's how generators are defined and how they differ from regular functions:\n",
        "Defining a Generator:\n",
        "A generator is defined using the def keyword, just like a regular function, but with one crucial difference: instead of using the return keyword to send back a value, a generator uses yield.\n",
        "\n",
        "\n",
        "\n",
        " 7. What are the advantages of using generators over regular functions?\n",
        "\n",
        " -->>Unlike a regular function, a generator does not return its results all at once. Instead, it yields its values one by one, each time it is called. This makes it possible to generate an infinite sequence of values, as long as there is sufficient memory to store them.\n",
        "\n",
        "\n",
        "\n",
        " 8. What is a lambda function in Python and when is it typically used?\n",
        "\n",
        " -->>In Python, a lambda function is a small, anonymous function defined without a name, using the lambda keyword. It can take any number of arguments but can only have one expression, which is automatically returned. Lambda functions are typically used for short, simple operations, especially when you need to pass a function as an argument to another higher-order function.\n",
        "\n",
        "\n",
        "\n",
        " 9. Explain the purpose and usage of the map() function in Python.\n",
        "\n",
        " -->>The map() function in Python is a built-in function that applies a specified function to each item in an iterable (such as a list, tuple, or set) and returns a map object, which is an iterator containing the results.\n",
        "Purpose:\n",
        "The primary purpose of map() is to provide a concise and efficient way to apply a transformation to every element of an iterable without the need for explicit loops. It embodies a functional programming paradigm, promoting cleaner and often more readable code for element-wise operations.\n",
        "Uses:\n",
        "Transforming elements.\n",
        "\n",
        "\n",
        "\n",
        " 10. What is the difference between map(), reduce(), and filter() functions in Python?\n",
        "\n",
        "\n",
        "-->>The map(), filter(), and reduce() functions in Python are higher-order functions used for functional programming paradigms, each serving a distinct purpose in data manipulation:\n",
        "map():\n",
        "Purpose: Applies a given function to each item in an iterable (like a list, tuple, etc.) and returns a new iterable containing the results.\n",
        "Output: An iterator (which can be converted to a list, tuple, etc.) of the transformed elements, maintaining the same number of elements as the input iterable.\n",
        "\n",
        "filter():\n",
        "Purpose: Constructs a new iterable from elements of an existing iterable for which a given function returns True.\n",
        "Output: An iterator (which can be converted to a list, tuple, etc.) containing only the elements that satisfy the condition, potentially fewer elements than the input iterable.\n",
        "Example: Filtering out odd numbers from a list.\n",
        "\n",
        "reduce():\n",
        "Purpose: Applies a given function cumulatively to the items of an iterable, reducing the iterable to a single value. It's found in the functools module in Python 3.\n",
        "Output: A single, aggregated value.\n",
        "Example: Calculating the sum of all numbers in a list.\n",
        "\n",
        "\n",
        "\n",
        "11. Using pen & Paper write the internal mechanism for sum operation using  reduce function on this givenlist:[47,11,42,13];\n",
        "\n",
        "-->>\n"
      ],
      "metadata": {
        "id": "dwUZivsysZ9J"
      }
    },
    {
      "cell_type": "markdown",
      "source": [
        "#PRACTICAL QUESTION"
      ],
      "metadata": {
        "id": "6VFgcpIU9o4I"
      }
    },
    {
      "cell_type": "markdown",
      "source": [
        " 1. Write a Python function that takes a list of numbers as input and returns the sum of all even numbers in\n",
        "the list."
      ],
      "metadata": {
        "id": "2qvQUsaD92Zm"
      }
    },
    {
      "cell_type": "code",
      "source": [
        "def even_sum(numbers):\n",
        "  sum = 0\n",
        "  for i in numbers:\n",
        "    if i%2==0:\n",
        "      sum = sum+i\n",
        "  return sum\n",
        "\n",
        "even_sum([1,2,3,4,5,6,7,8])"
      ],
      "metadata": {
        "id": "emiOWM29_Dws",
        "colab": {
          "base_uri": "https://localhost:8080/"
        },
        "outputId": "675cbe28-6f31-48a2-8f87-ad4140f466a8"
      },
      "execution_count": 4,
      "outputs": [
        {
          "output_type": "execute_result",
          "data": {
            "text/plain": [
              "20"
            ]
          },
          "metadata": {},
          "execution_count": 4
        }
      ]
    },
    {
      "cell_type": "markdown",
      "source": [
        " 2. Create a Python function that accepts a string and returns the reverse of that string"
      ],
      "metadata": {
        "id": "Rc9oIc_L_SNA"
      }
    },
    {
      "cell_type": "code",
      "source": [
        "def reverse_string(input_str):\n",
        "  reversed_str = \"\"\n",
        "  for char in input_str:\n",
        "    reversed_str = char + reversed_str\n",
        "  return reversed_str\n",
        "\n",
        "reverse_string(\"Hellow World\")\n"
      ],
      "metadata": {
        "id": "rQmiYGgz_ZqN",
        "colab": {
          "base_uri": "https://localhost:8080/",
          "height": 36
        },
        "outputId": "56dd5039-f0fc-4d92-810d-05f3b519bdf7"
      },
      "execution_count": 6,
      "outputs": [
        {
          "output_type": "execute_result",
          "data": {
            "text/plain": [
              "'dlroW wolleH'"
            ],
            "application/vnd.google.colaboratory.intrinsic+json": {
              "type": "string"
            }
          },
          "metadata": {},
          "execution_count": 6
        }
      ]
    },
    {
      "cell_type": "markdown",
      "source": [
        "3. Implement a Python function that takes a list of integers and returns a new list containing the squares of\n",
        "each number"
      ],
      "metadata": {
        "id": "kXrCIZON_dFn"
      }
    },
    {
      "cell_type": "code",
      "source": [
        "l = [1,2,3,4,5,6,7]\n",
        "\n",
        "def square(x):\n",
        "  cal = x**2\n",
        "  return cal\n",
        "\n",
        "list(map(square,l))\n"
      ],
      "metadata": {
        "colab": {
          "base_uri": "https://localhost:8080/"
        },
        "id": "iutyWa_Usnn_",
        "outputId": "26d2f673-7a20-432e-c2ae-9d7571add633"
      },
      "execution_count": 17,
      "outputs": [
        {
          "output_type": "execute_result",
          "data": {
            "text/plain": [
              "[1, 4, 9, 16, 25, 36, 49]"
            ]
          },
          "metadata": {},
          "execution_count": 17
        }
      ]
    },
    {
      "cell_type": "markdown",
      "source": [
        " 4. Write a Python function that checks if a given number is prime or not from 1 to 200"
      ],
      "metadata": {
        "id": "oCjtpJTZ_g1r"
      }
    },
    {
      "cell_type": "code",
      "source": [
        "def getprime200():\n",
        "  for x in range(2,200+1):\n",
        "    for y in range(2,x):\n",
        "      if x % y == 0:\n",
        "        break\n",
        "    else:\n",
        "      print(f\"The prime Number is :\", x)\n",
        "\n",
        "print(\"prime Number between 1 - 200 is ...\")\n",
        "getprime200()\n"
      ],
      "metadata": {
        "id": "QgC9g2D1_pg_",
        "colab": {
          "base_uri": "https://localhost:8080/"
        },
        "outputId": "fc8005ec-b3e4-4ecf-f423-734bd08e671c"
      },
      "execution_count": 18,
      "outputs": [
        {
          "output_type": "stream",
          "name": "stdout",
          "text": [
            "prime Number between 1 - 200 is ...\n",
            "The prime Number is : 2\n",
            "The prime Number is : 3\n",
            "The prime Number is : 5\n",
            "The prime Number is : 7\n",
            "The prime Number is : 11\n",
            "The prime Number is : 13\n",
            "The prime Number is : 17\n",
            "The prime Number is : 19\n",
            "The prime Number is : 23\n",
            "The prime Number is : 29\n",
            "The prime Number is : 31\n",
            "The prime Number is : 37\n",
            "The prime Number is : 41\n",
            "The prime Number is : 43\n",
            "The prime Number is : 47\n",
            "The prime Number is : 53\n",
            "The prime Number is : 59\n",
            "The prime Number is : 61\n",
            "The prime Number is : 67\n",
            "The prime Number is : 71\n",
            "The prime Number is : 73\n",
            "The prime Number is : 79\n",
            "The prime Number is : 83\n",
            "The prime Number is : 89\n",
            "The prime Number is : 97\n",
            "The prime Number is : 101\n",
            "The prime Number is : 103\n",
            "The prime Number is : 107\n",
            "The prime Number is : 109\n",
            "The prime Number is : 113\n",
            "The prime Number is : 127\n",
            "The prime Number is : 131\n",
            "The prime Number is : 137\n",
            "The prime Number is : 139\n",
            "The prime Number is : 149\n",
            "The prime Number is : 151\n",
            "The prime Number is : 157\n",
            "The prime Number is : 163\n",
            "The prime Number is : 167\n",
            "The prime Number is : 173\n",
            "The prime Number is : 179\n",
            "The prime Number is : 181\n",
            "The prime Number is : 191\n",
            "The prime Number is : 193\n",
            "The prime Number is : 197\n",
            "The prime Number is : 199\n"
          ]
        }
      ]
    },
    {
      "cell_type": "markdown",
      "source": [
        " 5. Create an iterator class in Python that generates the Fibonacci sequence up to a specified number of\n",
        "terms."
      ],
      "metadata": {
        "id": "AcaOdFto_qYD"
      }
    },
    {
      "cell_type": "code",
      "source": [
        "def fib(n):\n",
        "  a = 0\n",
        "  b = 1\n",
        "  if n == 1:\n",
        "    print(a)\n",
        "  else:\n",
        "    print(a)\n",
        "    print(b)\n",
        "\n",
        "    for i in range(2,n):\n",
        "      c = a + b\n",
        "      a = b\n",
        "      b = c\n",
        "      print(c)\n",
        "\n",
        "fib(17)"
      ],
      "metadata": {
        "id": "I-xyBG8pBg0R",
        "colab": {
          "base_uri": "https://localhost:8080/"
        },
        "outputId": "8e06f5f3-4673-4bdb-b2a4-4ccc2c9c08b1"
      },
      "execution_count": 20,
      "outputs": [
        {
          "output_type": "stream",
          "name": "stdout",
          "text": [
            "0\n",
            "1\n",
            "1\n",
            "2\n",
            "3\n",
            "5\n",
            "8\n",
            "13\n",
            "21\n",
            "34\n",
            "55\n",
            "89\n",
            "144\n",
            "233\n",
            "377\n",
            "610\n",
            "987\n"
          ]
        }
      ]
    },
    {
      "cell_type": "markdown",
      "source": [
        " 6. Write a generator function in Python that yields the powers of 2 up to a given exponent\n"
      ],
      "metadata": {
        "id": "j5FzUBylBqDd"
      }
    },
    {
      "cell_type": "code",
      "source": [
        "two_powers = powers_of_two_generator(5)\n",
        "for power in two_powers:\n",
        "    print(power)"
      ],
      "metadata": {
        "colab": {
          "base_uri": "https://localhost:8080/"
        },
        "id": "JEBgzDkQ8TQJ",
        "outputId": "55f7c66c-d4e2-4c59-f134-e05e3392ecad"
      },
      "execution_count": 38,
      "outputs": [
        {
          "output_type": "stream",
          "name": "stdout",
          "text": [
            "1\n",
            "2\n",
            "4\n",
            "8\n",
            "16\n",
            "32\n"
          ]
        }
      ]
    },
    {
      "cell_type": "code",
      "source": [
        "# prompt: Write a generator function in Python that yields the powers of 2 up to a given exponent\n",
        "\n",
        "# Write a generator function in Python that yields the powers of 2 up to a given exponent\n",
        "def powers_of_two_generator(exponent):\n",
        "    for i in range(exponent + 1):\n",
        "        yield 2 ** i\n",
        "\n",
        "# Example usage:\n",
        "two_powers = powers_of_two_generator(5)\n",
        "for power in two_powers:\n",
        "    print(power)\n",
        "\n",
        "# To get a list of the generated values (consuming the generator):\n",
        "list_of_powers = list(powers_of_two_generator(10))\n",
        "list_of_powers\n"
      ],
      "metadata": {
        "id": "qqk6TKHx9DWY"
      },
      "execution_count": null,
      "outputs": []
    },
    {
      "cell_type": "markdown",
      "source": [
        " 7. Implement a generator function that reads a file line by line and yields each line as a string"
      ],
      "metadata": {
        "id": "-f0lisN8CmCF"
      }
    },
    {
      "cell_type": "code",
      "source": [
        "def read_file_lines(file_path):\n",
        "    try:\n",
        "        with open(file_path, 'r') as f:\n",
        "            for line in f:\n",
        "                yield line\n",
        "    except FileNotFoundError:\n",
        "        print(f\"Error: The file '{file_path}' was not found.\")\n",
        "    except Exception as e:\n",
        "        print(f\"An error occurred: {e}\")\n",
        "\n",
        "with open(\"example.txt\", \"w\") as f:\n",
        "    f.write(\"This is line 1.\\n\")\n",
        "    f.write(\"This is line 2.\\n\")\n",
        "    f.write(\"This is line 3.\\n\")\n",
        "for line in read_file_lines(\"example.txt\"):\n",
        "    print(line.strip())"
      ],
      "metadata": {
        "id": "h9HPrUFlCroS",
        "colab": {
          "base_uri": "https://localhost:8080/"
        },
        "outputId": "8b755e6f-760c-496f-a383-715c9d9369d0"
      },
      "execution_count": 4,
      "outputs": [
        {
          "output_type": "stream",
          "name": "stdout",
          "text": [
            "This is line 1.\n",
            "This is line 2.\n",
            "This is line 3.\n"
          ]
        }
      ]
    },
    {
      "cell_type": "markdown",
      "source": [
        "8. Use a lambda function in Python to sort a list of tuples based on the second element of each tuple"
      ],
      "metadata": {
        "id": "corrJ7GrCsGz"
      }
    },
    {
      "cell_type": "code",
      "source": [
        "\n",
        "a = [(1, 'Python'), (2, 'with'), (3, 'GFG')]\n",
        "order = ['with', 'Python', 'GFG']\n",
        "res = sorted(a, key=lambda x: order.index(x[1]))\n",
        "print(res)"
      ],
      "metadata": {
        "id": "B5i9AyfQCy6R",
        "colab": {
          "base_uri": "https://localhost:8080/"
        },
        "outputId": "b906e4a2-a452-4062-ae7f-a782a118d19e"
      },
      "execution_count": 2,
      "outputs": [
        {
          "output_type": "stream",
          "name": "stdout",
          "text": [
            "[(2, 'with'), (1, 'Python'), (3, 'GFG')]\n"
          ]
        }
      ]
    },
    {
      "cell_type": "markdown",
      "source": [
        "9. Write a Python program that uses `map()` to convert a list of temperatures from Celsius to Fahrenheit"
      ],
      "metadata": {
        "id": "nzCwZvveC0Kg"
      }
    },
    {
      "cell_type": "code",
      "source": [
        "def celsius_to_fahrenheit(celsius):\n",
        "  return (celsius * 9/5) + 32\n",
        "\n",
        "def convert_temperatures(celsius_list):\n",
        "  fahrenheit_list = list(map(celsius_to_fahrenheit, celsius_list))\n",
        "  return fahrenheit_list\n",
        "celsius_temps = [0, 10, 20, 30, 40]\n",
        "fahrenheit_temps = convert_temperatures(celsius_temps)\n",
        "print(f\"Celsius temperatures: {celsius_temps}\")\n",
        "print(f\"Fahrenheit temperatures: {fahrenheit_temps}\")"
      ],
      "metadata": {
        "colab": {
          "base_uri": "https://localhost:8080/"
        },
        "id": "ZFDyMQga3zWa",
        "outputId": "a4b2d29f-55f6-41f3-e569-0e85cca661d3"
      },
      "execution_count": 28,
      "outputs": [
        {
          "output_type": "stream",
          "name": "stdout",
          "text": [
            "Celsius temperatures: [0, 10, 20, 30, 40]\n",
            "Fahrenheit temperatures: [32.0, 50.0, 68.0, 86.0, 104.0]\n"
          ]
        }
      ]
    },
    {
      "cell_type": "markdown",
      "source": [
        "10. Create a Python program that uses `filter()` to remove all the vowels from a given string"
      ],
      "metadata": {
        "id": "AH4weMxmC_WC"
      }
    },
    {
      "cell_type": "code",
      "source": [
        "a=list(\"sample\")\n",
        "def vowel(x):\n",
        "    v=('a','e','i','o','u')\n",
        "    return x in v\n",
        "\n",
        "b=list(filter(vowel,a))\n",
        "print(\"Vowels : \",b)\n",
        "print(\"No of Vowels : \",len(b))"
      ],
      "metadata": {
        "colab": {
          "base_uri": "https://localhost:8080/"
        },
        "id": "7YZnc4vX6NPn",
        "outputId": "677ec7ab-b184-41d5-a2ce-6136e7d966ba"
      },
      "execution_count": 30,
      "outputs": [
        {
          "output_type": "stream",
          "name": "stdout",
          "text": [
            "Vowels :  ['a', 'e']\n",
            "No of Vowels :  2\n"
          ]
        }
      ]
    },
    {
      "cell_type": "markdown",
      "source": [],
      "metadata": {
        "id": "cU0BLFzMZb23"
      }
    },
    {
      "cell_type": "markdown",
      "source": [],
      "metadata": {
        "id": "3ZCg_nbHZbzU"
      }
    },
    {
      "cell_type": "markdown",
      "source": [
        "11) Imagine an accounting routine used in a book shop. It works on a list with sublists, which look like this:\n",
        "\n",
        "Order Number\n",
        "\n",
        "34587\n",
        "\n",
        "98762\n",
        "\n",
        "77226\n",
        "\n",
        "88112\n",
        "\n",
        "Book Title and Author\n",
        "\n",
        "Learning Python, Mark Lutz\n",
        "\n",
        "Programming Python, Mark Lutz\n",
        "\n",
        "Head First Python, Paul Barry\n",
        "\n",
        "Einführung in Python3, Bernd Klein\n",
        "\n",
        "Quantity\n",
        "\n",
        "4\n",
        "\n",
        "5\n",
        "\n",
        "Price per Item\n",
        "\n",
        "40.95\n",
        "\n",
        "56.80\n",
        "\n",
        "32.95\n",
        "\n",
        "24.99\n",
        "\n",
        "Write a Python program, which returns a list with 2-tuples. Each tuple consists of the order number and the product of the price per item and the quantity. The product should be increased by 10,- € if the value of the order is smaller than 100,00 €.\n",
        "\n",
        "Write a Python program using lambda and map."
      ],
      "metadata": {
        "id": "6ZyUBpwWDJqZ"
      }
    },
    {
      "cell_type": "code",
      "source": [
        "orders = [\n",
        "    [\"34587\", \"Learning Python, Mark Lutz\", 4, 40.95],\n",
        "    [\"98762\", \"Programming Python, Mark Lutz\", 5, 56.80],\n",
        "    [\"77226\", \"Head First Python, Paul Barry\", 3, 32.95],\n",
        "    [\"88112\", \"Python Cookbook, David Beazley\", 3, 24.99]\n",
        "]\n",
        "\n",
        "result = list(map(lambda x: (x[0], x[2] * x[3] + 10 if x[2] * x[3] < 100 else x[2] * x[3]), orders))\n",
        "\n",
        "print(result)"
      ],
      "metadata": {
        "colab": {
          "base_uri": "https://localhost:8080/"
        },
        "id": "98HQlmycZTsx",
        "outputId": "ea74b380-177d-4697-921d-fe4f5dd89082"
      },
      "execution_count": 5,
      "outputs": [
        {
          "output_type": "stream",
          "name": "stdout",
          "text": [
            "[('34587', 163.8), ('98762', 284.0), ('77226', 108.85000000000001), ('88112', 84.97)]\n"
          ]
        }
      ]
    },
    {
      "cell_type": "code",
      "source": [],
      "metadata": {
        "id": "U0j_0bMYZUs8"
      },
      "execution_count": null,
      "outputs": []
    }
  ]
}